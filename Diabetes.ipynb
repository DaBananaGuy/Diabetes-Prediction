{
  "nbformat": 4,
  "nbformat_minor": 0,
  "metadata": {
    "colab": {
      "name": "Diabetes.ipynb",
      "version": "0.3.2",
      "provenance": [],
      "collapsed_sections": []
    },
    "kernelspec": {
      "name": "python3",
      "display_name": "Python 3"
    }
  },
  "cells": [
    {
      "metadata": {
        "id": "ESN4G72cllQc",
        "colab_type": "text"
      },
      "cell_type": "markdown",
      "source": [
        "First, install OpenML, a library that provides access to the datasets on https://www.openml.org . You also need tpot, a library that uses genetic algorithms to test and produce the best machine learning model for the dataset (no deep learning). "
      ]
    },
    {
      "metadata": {
        "id": "uoigTRf5k3xN",
        "colab_type": "code",
        "colab": {}
      },
      "cell_type": "code",
      "source": [
        "!pip install openml"
      ],
      "execution_count": 0,
      "outputs": []
    },
    {
      "metadata": {
        "id": "vmMXlcm4f-if",
        "colab_type": "code",
        "colab": {}
      },
      "cell_type": "code",
      "source": [
        "!pip install tpot"
      ],
      "execution_count": 0,
      "outputs": []
    },
    {
      "metadata": {
        "id": "yA6nn2_nl_Nq",
        "colab_type": "text"
      },
      "cell_type": "markdown",
      "source": [
        "Next, import `openml`. You also import `train_test_split` for splitting up the data into training and testing data. Also import `scale` to scale down all of the values so they have equal importance. Also import `TPOTClassifier` from TPOT."
      ]
    },
    {
      "metadata": {
        "id": "trKORtQ3k-t7",
        "colab_type": "code",
        "colab": {}
      },
      "cell_type": "code",
      "source": [
        "import openml as oml\n",
        "from sklearn.model_selection import train_test_split\n",
        "from sklearn.preprocessing import scale\n",
        "from tpot import TPOTClassifier"
      ],
      "execution_count": 0,
      "outputs": []
    },
    {
      "metadata": {
        "id": "DPexJsoEmc64",
        "colab_type": "text"
      },
      "cell_type": "markdown",
      "source": [
        "Next, load in the dataset from OpenML, scale it, and split it into training and testing data."
      ]
    },
    {
      "metadata": {
        "id": "-VoJc-3TlAlD",
        "colab_type": "code",
        "colab": {
          "base_uri": "https://localhost:8080/",
          "height": 139
        },
        "outputId": "f1860340-60ff-431c-f90b-261987d13569"
      },
      "cell_type": "code",
      "source": [
        "dataset = oml.datasets.get_dataset(37)\n",
        "\n",
        "x, y, attribute_names = dataset.get_data(\n",
        "    target=dataset.default_target_attribute,\n",
        "    return_attribute_names=True,\n",
        ")\n",
        "\n",
        "x = scale(x)\n",
        "\n",
        "xtrain,xtest,ytrain,ytest = train_test_split(x,y,test_size=0.1, random_state=42)\n",
        "\n",
        "print(x[0])"
      ],
      "execution_count": 6,
      "outputs": [
        {
          "output_type": "stream",
          "text": [
            "[ 0.6399472   0.8483238   0.14964074  0.90726995 -0.69289064  0.2040126\n",
            "  0.46849185  1.4259955 ]\n"
          ],
          "name": "stdout"
        },
        {
          "output_type": "stream",
          "text": [
            "/usr/local/lib/python3.6/dist-packages/sklearn/preprocessing/data.py:164: UserWarning: Numerical issues were encountered when centering the data and might not be solved. Dataset may contain too large values. You may need to prescale your features.\n",
            "  warnings.warn(\"Numerical issues were encountered \"\n",
            "/usr/local/lib/python3.6/dist-packages/sklearn/preprocessing/data.py:181: UserWarning: Numerical issues were encountered when scaling the data and might not be solved. The standard deviation of the data is probably very close to 0. \n",
            "  warnings.warn(\"Numerical issues were encountered \"\n"
          ],
          "name": "stderr"
        }
      ]
    },
    {
      "metadata": {
        "id": "LFyQIOf_mr9v",
        "colab_type": "text"
      },
      "cell_type": "markdown",
      "source": [
        "Next, initialize the classifier, and fit it to the data."
      ]
    },
    {
      "metadata": {
        "id": "Qf4RFje7mWcL",
        "colab_type": "code",
        "colab": {
          "base_uri": "https://localhost:8080/",
          "height": 275
        },
        "outputId": "31f52321-055a-47b0-b9cc-96c2e21d217a"
      },
      "cell_type": "code",
      "source": [
        "tpot = TPOTClassifier(generations=5,verbosity=2)\n",
        "tpot.fit(xtrain,ytrain)"
      ],
      "execution_count": 7,
      "outputs": [
        {
          "output_type": "stream",
          "text": [
            "Optimization Progress:  33%|███▎      | 200/600 [01:36<04:05,  1.63pipeline/s]"
          ],
          "name": "stderr"
        },
        {
          "output_type": "stream",
          "text": [
            "Generation 1 - Current best internal CV score: 0.7814513606506099\n"
          ],
          "name": "stdout"
        },
        {
          "output_type": "stream",
          "text": [
            "Optimization Progress:  50%|█████     | 300/600 [02:57<13:33,  2.71s/pipeline]"
          ],
          "name": "stderr"
        },
        {
          "output_type": "stream",
          "text": [
            "Generation 2 - Current best internal CV score: 0.7843603378167031\n"
          ],
          "name": "stdout"
        },
        {
          "output_type": "stream",
          "text": [
            "Optimization Progress:  67%|██████▋   | 400/600 [04:09<01:50,  1.82pipeline/s]"
          ],
          "name": "stderr"
        },
        {
          "output_type": "stream",
          "text": [
            "Generation 3 - Current best internal CV score: 0.7843603378167031\n"
          ],
          "name": "stdout"
        },
        {
          "output_type": "stream",
          "text": [
            "Optimization Progress:  83%|████████▎ | 500/600 [06:22<02:31,  1.51s/pipeline]"
          ],
          "name": "stderr"
        },
        {
          "output_type": "stream",
          "text": [
            "Generation 4 - Current best internal CV score: 0.7843603378167031\n"
          ],
          "name": "stdout"
        },
        {
          "output_type": "stream",
          "text": [
            ""
          ],
          "name": "stderr"
        },
        {
          "output_type": "stream",
          "text": [
            "Generation 5 - Current best internal CV score: 0.7843603378167032\n",
            "\n",
            "Best pipeline: GaussianNB(XGBClassifier(RFE(input_matrix, criterion=entropy, max_features=1.0, n_estimators=100, step=0.9500000000000001), learning_rate=0.5, max_depth=1, min_child_weight=15, n_estimators=100, nthread=1, subsample=0.6000000000000001))\n"
          ],
          "name": "stdout"
        },
        {
          "output_type": "execute_result",
          "data": {
            "text/plain": [
              "TPOTClassifier(config_dict=None, crossover_rate=0.1, cv=5,\n",
              "        disable_update_check=False, early_stop=None, generations=5,\n",
              "        max_eval_time_mins=5, max_time_mins=None, memory=None,\n",
              "        mutation_rate=0.9, n_jobs=1, offspring_size=None,\n",
              "        periodic_checkpoint_folder=None, population_size=100,\n",
              "        random_state=None, scoring=None, subsample=1.0, use_dask=False,\n",
              "        verbosity=2, warm_start=False)"
            ]
          },
          "metadata": {
            "tags": []
          },
          "execution_count": 7
        }
      ]
    },
    {
      "metadata": {
        "id": "JHHN5gMZmzwN",
        "colab_type": "text"
      },
      "cell_type": "markdown",
      "source": [
        "Finally, print out the accuracy!"
      ]
    },
    {
      "metadata": {
        "id": "TyyZuqn_mcAv",
        "colab_type": "code",
        "colab": {
          "base_uri": "https://localhost:8080/",
          "height": 88
        },
        "outputId": "e43e7ff6-ecf1-45a0-a347-711e78dd0bc1"
      },
      "cell_type": "code",
      "source": [
        "print(tpot.score(xtest,ytest))"
      ],
      "execution_count": 8,
      "outputs": [
        {
          "output_type": "stream",
          "text": [
            "0.7272727272727273\n"
          ],
          "name": "stdout"
        },
        {
          "output_type": "stream",
          "text": [
            "/usr/local/lib/python3.6/dist-packages/sklearn/preprocessing/label.py:151: DeprecationWarning: The truth value of an empty array is ambiguous. Returning False, but in future this will result in an error. Use `array.size > 0` to check that an array is not empty.\n",
            "  if diff:\n"
          ],
          "name": "stderr"
        }
      ]
    }
  ]
}